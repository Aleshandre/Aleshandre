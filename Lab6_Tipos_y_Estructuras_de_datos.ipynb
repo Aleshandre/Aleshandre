{
  "cells": [
    {
      "cell_type": "markdown",
      "metadata": {
        "id": "view-in-github",
        "colab_type": "text"
      },
      "source": [
        "<a href=\"https://colab.research.google.com/github/Aleshandre/Aleshandre/blob/main/Lab6_Tipos_y_Estructuras_de_datos.ipynb\" target=\"_parent\"><img src=\"https://colab.research.google.com/assets/colab-badge.svg\" alt=\"Open In Colab\"/></a>"
      ]
    },
    {
      "cell_type": "markdown",
      "source": [
        "<h1><font color=\"#113D68\" size=8> Introducción a la programación con Python </font></h1>\n",
        "\n",
        "<h1><font color=\"#113D68\" size=6>(Sesión 1: Tipos y Estructuras de datos)</font></h1>\n",
        "\n",
        "<h1><font color=\"#113D68\" size=5>Expositor: Luis Bautista</font></h1>\n",
        "<h1><font color=\"#113D68\" size=5>SuperAlumno: Alexander Tellería</font></h1>\n",
        "\n",
        "<br>\n",
        "\n",
        "</div>"
      ],
      "metadata": {
        "id": "UU0LqafbH7_w"
      }
    },
    {
      "cell_type": "markdown",
      "source": [
        "---\n",
        "<a id=\"001\"></a>\n",
        "# <font color=\"#004D7F\" size=6> 1. Operaciones básicas</font>"
      ],
      "metadata": {
        "id": "VZ_N0qywIpRg"
      }
    },
    {
      "cell_type": "code",
      "execution_count": null,
      "metadata": {
        "collapsed": true,
        "id": "iF3120o3HyZK"
      },
      "outputs": [],
      "source": [
        "# Suma\n",
        "20+30"
      ]
    },
    {
      "cell_type": "code",
      "source": [
        "# Resta\n",
        "100 - 70"
      ],
      "metadata": {
        "id": "2IQJuqOpJSqw"
      },
      "execution_count": null,
      "outputs": []
    },
    {
      "cell_type": "code",
      "execution_count": null,
      "metadata": {
        "collapsed": true,
        "id": "SYlqbcI-HyZP"
      },
      "outputs": [],
      "source": [
        "# División\n",
        "250/10"
      ]
    },
    {
      "cell_type": "code",
      "execution_count": null,
      "metadata": {
        "id": "1ALwr43AHyZQ"
      },
      "outputs": [],
      "source": [
        "# Módulo\n",
        "3%2"
      ]
    },
    {
      "cell_type": "code",
      "execution_count": null,
      "metadata": {
        "collapsed": true,
        "id": "mRL_rdccHyZR"
      },
      "outputs": [],
      "source": [
        "# Potencia\n",
        "9**2"
      ]
    },
    {
      "cell_type": "markdown",
      "source": [
        "---\n",
        "<a id=\"002\"></a>\n",
        "# <font color=\"#004D7F\" size=6> 2. Tipo de datos</font>"
      ],
      "metadata": {
        "id": "lpKnvmvbJe1f"
      }
    },
    {
      "cell_type": "markdown",
      "metadata": {
        "id": "0RNKyT8WHyZR"
      },
      "source": [
        "### Tipos de datos\n",
        "- **Enteros**: Que no tienen una parte decimal y van desde menos infinito a más infinito.\n",
        "- **Flotantes** o decimales: Números que tienen una parte decimal escrita con un punto.\n",
        "- **Booleano**: Es un tipo de dato que permite almacenar dos valores True o False.\n",
        "- **Complejos**: Se refieres a los números complejos, son aquellos número de tienen parte real y parte imaginaria.\n",
        "- **Cadenas o Strings**: Son un tipo inmutable que permite almacenar secuencias de caracteres.\n",
        "- **Listas**:Son un tipo de dato que permite almacenar datos de cualquier tipo."
      ]
    },
    {
      "cell_type": "code",
      "source": [
        "# Números enteros\n",
        "i = 12\n",
        "print(i)          \n",
        "print(type(i)) "
      ],
      "metadata": {
        "id": "DOPY1jQELV-_"
      },
      "execution_count": null,
      "outputs": []
    },
    {
      "cell_type": "code",
      "source": [
        "#Booleano\n",
        "print(1 > 0)  \n",
        "print(1 <= 0) \n",
        "print(9 == 9) "
      ],
      "metadata": {
        "id": "ijKzW8RpLfK5"
      },
      "execution_count": null,
      "outputs": []
    },
    {
      "cell_type": "code",
      "source": [
        "# Float\n",
        "f = 0.10093\n",
        "print(f)       \n",
        "print(type(f)) "
      ],
      "metadata": {
        "id": "W3vj0BaELfAH"
      },
      "execution_count": null,
      "outputs": []
    },
    {
      "cell_type": "code",
      "source": [
        "# Números complejos\n",
        "c = 3 + 5j\n",
        "print(c)       \n",
        "print(type(c)) "
      ],
      "metadata": {
        "id": "8v3mr1WfLe44"
      },
      "execution_count": null,
      "outputs": []
    },
    {
      "cell_type": "code",
      "source": [
        "# Cadenas o Strings\n",
        "s = 'Esto es otra cadena'\n",
        "print(s)        \n",
        "print(type(s))  "
      ],
      "metadata": {
        "id": "zxg0VJcqLerx"
      },
      "execution_count": null,
      "outputs": []
    },
    {
      "cell_type": "code",
      "source": [
        "# Listas\n",
        "a = [100, \"Python\", 3.1416]\n",
        "print(a[0])\n",
        "print(a[1]) \n",
        "print(a[2]) "
      ],
      "metadata": {
        "id": "lalNFpOJMI3P"
      },
      "execution_count": null,
      "outputs": []
    },
    {
      "cell_type": "markdown",
      "source": [
        "---\n",
        "<a id=\"003\"></a>\n",
        "# <font color=\"#004D7F\" size=6> 3. Operadores</font>"
      ],
      "metadata": {
        "id": "7DJ69PgCMiB5"
      }
    },
    {
      "cell_type": "markdown",
      "metadata": {
        "id": "elDrGtrYHyZT"
      },
      "source": [
        "### Tipos de operadores\n",
        " - **Operadores aritméticos**\n",
        " - **Operadores relacionales**\n",
        " - **Operadores lógicos**\n",
        " - **Operadores asignación**"
      ]
    },
    {
      "cell_type": "code",
      "source": [
        "# Operadores aritméticos\n",
        "x = 10; y = 3\n",
        "print(\"Operadores aritméticos\")\n",
        "print(\"x+y =\", x+y)   \n",
        "print(\"x-y =\", x-y)   \n",
        "print(\"x*y =\", x*y)   \n",
        "print(\"x/y =\", x/y)   \n",
        "print(\"x%y =\", x%y)   \n",
        "print(\"x**y =\", x**y) "
      ],
      "metadata": {
        "id": "EnxXrAePM9KP"
      },
      "execution_count": null,
      "outputs": []
    },
    {
      "cell_type": "code",
      "source": [
        "# Operadores relacionales\n",
        "x=2; y=3\n",
        "print(\"Operadores Relacionales\")\n",
        "print(\"x==y =\", x==y) # False\n",
        "print(\"x!=y =\", x!=y) # True\n",
        "print(\"x>y  =\", x>y)  # False\n",
        "print(\"x<y  =\", x<y)  # True\n",
        "print(\"x>=y =\", x>=y) # False\n",
        "print(\"x<=y =\", x<=y) # True"
      ],
      "metadata": {
        "id": "lLjQHu8FM_53"
      },
      "execution_count": null,
      "outputs": []
    },
    {
      "cell_type": "code",
      "source": [
        "# Operadores lógicos\n",
        "print(True and True)   \n",
        "print(True and False)  \n",
        "print(False and True) \n",
        "print(False and False) "
      ],
      "metadata": {
        "id": "G3NfeZAgM_2f"
      },
      "execution_count": null,
      "outputs": []
    },
    {
      "cell_type": "code",
      "source": [
        "print(True or True)   \n",
        "print(True or False)  \n",
        "print(False or True)  \n",
        "print(False or False) "
      ],
      "metadata": {
        "id": "zyHH00WlNbjA"
      },
      "execution_count": null,
      "outputs": []
    },
    {
      "cell_type": "code",
      "source": [
        "# Operadores asignación\n",
        "a=7; b=2\n",
        "print(\"Operadores de asignación\")\n",
        "x=a; x+=b;  print(\"x+=\", x)  \n",
        "x=a; x-=b;  print(\"x-=\", x)  \n",
        "x=a; x*=b;  print(\"x*=\", x)  \n",
        "x=a; x/=b;  print(\"x/=\", x)  \n",
        "x=a; x%=b;  print(\"x%=\", x)  \n",
        "x=a; x//=b; print(\"x//=\", x) \n",
        "x=a; x**=b; print(\"x**=\", x) "
      ],
      "metadata": {
        "id": "ISTKtOJrM_zP"
      },
      "execution_count": null,
      "outputs": []
    },
    {
      "cell_type": "markdown",
      "metadata": {
        "id": "-1xBSqfNHyZY"
      },
      "source": [
        "### Reutilización\n",
        "Al crear una estructura de cálculos con variables, podemos fácilmente adaptar sus valores para hacer distintas comprobaciones."
      ]
    },
    {
      "cell_type": "code",
      "execution_count": null,
      "metadata": {
        "id": "WGmptPpAHyZY"
      },
      "outputs": [],
      "source": [
        "nota_1 = 18\n",
        "nota_2 = 14\n",
        "nota_3 = 18\n",
        "nota_4 = 10\n",
        "nota_5 = 12\n"
      ]
    },
    {
      "cell_type": "code",
      "execution_count": null,
      "metadata": {
        "id": "DF-5q4EQHyZY"
      },
      "outputs": [],
      "source": [
        "#calcular la Nota Promedio\n",
        "Promedio=(nota_1+nota_2+nota_3+nota_4+nota_5)/5\n",
        "Promedio"
      ]
    },
    {
      "cell_type": "markdown",
      "source": [
        "---\n",
        "<a id=\"004\"></a>\n",
        "# <font color=\"#004D7F\" size=6> 4. Creando variables</font>"
      ],
      "metadata": {
        "id": "pgdlCkV1QHs_"
      }
    },
    {
      "cell_type": "code",
      "source": [
        "# Creando variables (1° forma)\n",
        "x = y = z = 10\n",
        "print(x)\n",
        "print(y)\n",
        "print(z)"
      ],
      "metadata": {
        "id": "5wmMJyWmQPqe"
      },
      "execution_count": null,
      "outputs": []
    },
    {
      "cell_type": "code",
      "source": [
        "# Creando variables (2° forma)\n",
        "x, y, z = 1, 2, 3\n",
        "print(x)\n",
        "print(y)\n",
        "print(z)"
      ],
      "metadata": {
        "id": "f90WwvHCQPnu"
      },
      "execution_count": null,
      "outputs": []
    },
    {
      "cell_type": "code",
      "source": [
        "#calcular la Nota Promedio\n",
        "nota_1 = 18\n",
        "nota_2 = 14\n",
        "nota_3 = 18\n",
        "nota_4 = 10\n",
        "nota_5 = 12\n",
        "Promedio=(nota_1+nota_2+nota_3+nota_4+nota_5)/5\n",
        "print(Promedio)"
      ],
      "metadata": {
        "id": "w8a8UuDQQPh-"
      },
      "execution_count": null,
      "outputs": []
    },
    {
      "cell_type": "markdown",
      "source": [
        "---\n",
        "<a id=\"005\"></a>\n",
        "# <font color=\"#004D7F\" size=6> 5. Ejercicios</font>"
      ],
      "metadata": {
        "id": "aSrWkhPURsMA"
      }
    },
    {
      "cell_type": "code",
      "source": [
        "# Calcular el área de un círculo\n",
        "radio = 5\n",
        "PI = 3.14159\n",
        "area_circulo = PI*radio**2\n",
        "print(area_circulo)"
      ],
      "metadata": {
        "id": "drrhHqWNRz0A"
      },
      "execution_count": null,
      "outputs": []
    },
    {
      "cell_type": "code",
      "source": [
        "# Calcular la hipotenusa de un triángulo rectángulo\n",
        "Cateto_opu = 3\n",
        "Cateto_ady = 4\n",
        "Hipotenusa = (Cateto_opu**2+Cateto_ady**2)**(0.5)\n",
        "print(Hipotenusa)"
      ],
      "metadata": {
        "id": "R__xqckmRzx5"
      },
      "execution_count": null,
      "outputs": []
    },
    {
      "cell_type": "code",
      "source": [
        "# Calcular las raíces de una ecuaciones cudrática (ax^2+bx+c=0, a!=0)\n",
        "#Raíces de la ecuación: x=(-b+-sqrt(b^2-4ac))/2a\n",
        "# x^2+x-6=0\n",
        "a=1\n",
        "b=1\n",
        "c=-6\n",
        "Sol1 = (-b+((b^2-4*a*c)**(0.5)))/(2*a)\n",
        "Sol2 = (-b-((b^2-4*a*c)**(0.5)))/(2*a)\n",
        "print(round(Sol1))\n",
        "print(round(Sol2))"
      ],
      "metadata": {
        "id": "l44xNQz2Rzv3"
      },
      "execution_count": null,
      "outputs": []
    }
  ],
  "metadata": {
    "kernelspec": {
      "display_name": "Python 3",
      "language": "python",
      "name": "python3"
    },
    "language_info": {
      "codemirror_mode": {
        "name": "ipython",
        "version": 3
      },
      "file_extension": ".py",
      "mimetype": "text/x-python",
      "name": "python",
      "nbconvert_exporter": "python",
      "pygments_lexer": "ipython3",
      "version": "3.6.5"
    },
    "colab": {
      "provenance": [],
      "include_colab_link": true
    }
  },
  "nbformat": 4,
  "nbformat_minor": 0
}